{
 "cells": [
  {
   "cell_type": "code",
   "execution_count": 39,
   "metadata": {},
   "outputs": [],
   "source": [
    "import json\n",
    "import ast"
   ]
  },
  {
   "cell_type": "code",
   "execution_count": 43,
   "metadata": {},
   "outputs": [
    {
     "name": "stderr",
     "output_type": "stream",
     "text": [
      "IOPub data rate exceeded.\n",
      "The notebook server will temporarily stop sending output\n",
      "to the client in order to avoid crashing it.\n",
      "To change this limit, set the config variable\n",
      "`--NotebookApp.iopub_data_rate_limit`.\n",
      "\n",
      "Current values:\n",
      "NotebookApp.iopub_data_rate_limit=1000000.0 (bytes/sec)\n",
      "NotebookApp.rate_limit_window=3.0 (secs)\n",
      "\n"
     ]
    }
   ],
   "source": [
    "src_tm_words = [] #Content Words in Source TM\n",
    "\n",
    "with open('../project/tm_data/tm_src.txt') as src_tm:\n",
    "    line = src_tm.readline()\n",
    "    \n",
    "    while line:\n",
    "        line = line.rstrip() #Removing Trailing Whitespace\n",
    "        \n",
    "        words = line.split('\\t')\n",
    "        src_tm_words.append(words)\n",
    "        \n",
    "        line = src_tm.readline()\n",
    "\n",
    "print(src_tm_words)"
   ]
  },
  {
   "cell_type": "code",
   "execution_count": 37,
   "metadata": {},
   "outputs": [
    {
     "name": "stdout",
     "output_type": "stream",
     "text": [
      "[270, 879, 1795, 2598, 2663, 3873, 3878, 4962, 5674, 5927, 6823, 7487, 7877, 8453, 8466, 8966, 9468, 9945]\n"
     ]
    }
   ],
   "source": [
    "indexed_dict = {}\n",
    "count = 0\n",
    "\n",
    "for sentence in src_tm_words:\n",
    "    count += 1\n",
    "    for word in sentence:\n",
    "        if word not in indexed_dict:\n",
    "            indexed_dict[word] = [count]\n",
    "        else:\n",
    "            indexed_dict[word].append(count)\n",
    "\n",
    "print(indexed_dict['sign'])"
   ]
  },
  {
   "cell_type": "code",
   "execution_count": 34,
   "metadata": {},
   "outputs": [],
   "source": [
    "indexed_values = json.dumps(indexed_dict)\n",
    "\n",
    "with open('tm_data/indexed_values.json', 'w') as json_file:\n",
    "    json.dump(indexed_values, json_file)"
   ]
  },
  {
   "cell_type": "code",
   "execution_count": 38,
   "metadata": {},
   "outputs": [
    {
     "name": "stdout",
     "output_type": "stream",
     "text": [
      "[270, 879, 1795, 2598, 2663, 3873, 3878, 4962, 5674, 5927, 6823, 7487, 7877, 8453, 8466, 8966, 9468, 9945]\n"
     ]
    }
   ],
   "source": [
    "with open('tm_data/indexed_values.json') as json_file:\n",
    "    indexed_values_str = json.load(json_file)\n",
    "\n",
    "indexed_dict = ast.literal_eval(indexed_values_str)\n",
    "\n",
    "print(indexed_dict['sign'])"
   ]
  },
  {
   "cell_type": "code",
   "execution_count": null,
   "metadata": {},
   "outputs": [],
   "source": []
  }
 ],
 "metadata": {
  "kernelspec": {
   "display_name": "Python 3",
   "language": "python",
   "name": "python3"
  },
  "language_info": {
   "codemirror_mode": {
    "name": "ipython",
    "version": 3
   },
   "file_extension": ".py",
   "mimetype": "text/x-python",
   "name": "python",
   "nbconvert_exporter": "python",
   "pygments_lexer": "ipython3",
   "version": "3.5.2"
  }
 },
 "nbformat": 4,
 "nbformat_minor": 2
}
