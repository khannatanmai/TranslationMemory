{
 "cells": [
  {
   "cell_type": "code",
   "execution_count": 3,
   "metadata": {},
   "outputs": [],
   "source": [
    "import json\n",
    "from nltk.tokenize import word_tokenize\n",
    "import math"
   ]
  },
  {
   "cell_type": "code",
   "execution_count": null,
   "metadata": {},
   "outputs": [],
   "source": [
    "idf_values = {}\n",
    "with open(\"../tm_data/tm_src_pp.txt\") as source_file:\n",
    "    sentences = source_file.read().splitlines()\n",
    "\n",
    "\n",
    "tokenized_sentences = [word_tokenize(sentence) for sentence in sentences]\n",
    "all_tokens_set = set([item for sublist in tokenized_sentences for item in sublist])\n",
    "for tkn in all_tokens_set:\n",
    "    contains_token = map(lambda doc: tkn in doc, tokenized_sentences)\n",
    "    idf_values[tkn] = 1 + math.log(len(tokenized_sentences)/(sum(contains_token)))\n",
    "\n",
    "# print(idf_values)"
   ]
  },
  {
   "cell_type": "code",
   "execution_count": null,
   "metadata": {},
   "outputs": [],
   "source": [
    "idf_json = json.dumps(idf_values)\n",
    "print(idf_json)\n",
    "\n",
    "with open('idf_values.json', 'w') as json_file:\n",
    "    json.dump(idf_json, json_file)"
   ]
  }
 ],
 "metadata": {
  "kernelspec": {
   "display_name": "Python 3",
   "language": "python",
   "name": "python3"
  },
  "language_info": {
   "codemirror_mode": {
    "name": "ipython",
    "version": 3
   },
   "file_extension": ".py",
   "mimetype": "text/x-python",
   "name": "python",
   "nbconvert_exporter": "python",
   "pygments_lexer": "ipython3",
   "version": "3.7.1"
  }
 },
 "nbformat": 4,
 "nbformat_minor": 2
}
