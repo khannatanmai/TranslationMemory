{
 "cells": [
  {
   "cell_type": "code",
   "execution_count": 8,
   "metadata": {},
   "outputs": [],
   "source": [
    "import json\n",
    "from nltk.tokenize import word_tokenize\n",
    "import math\n",
    "from sklearn.feature_extraction.text import TfidfVectorizer\n",
    "import numpy as np\n",
    "import ast"
   ]
  },
  {
   "cell_type": "code",
   "execution_count": 9,
   "metadata": {},
   "outputs": [],
   "source": [
    "idf_values = {}\n",
    "\n",
    "with open(\"../tm_data/tm_src_lower.txt\") as source_file:\n",
    "    sentences = source_file.read().splitlines()\n",
    "\n",
    "    \n",
    "tf = TfidfVectorizer(use_idf=True)\n",
    "tf.fit_transform(sentences)\n",
    "\n",
    "idf = tf.idf_ \n",
    "idf_list = idf.tolist()\n",
    "\n",
    "words = tf.get_feature_names()\n",
    "for i, word in enumerate(words):\n",
    "    idf_values[word] = idf_list[i]\n",
    "\n",
    "#print(idf_values)"
   ]
  },
  {
   "cell_type": "code",
   "execution_count": 10,
   "metadata": {},
   "outputs": [],
   "source": [
    "idf_json = json.dumps(idf_values)\n",
    "\n",
    "with open('../tm_data/idf_values.json', 'w') as json_file:\n",
    "    json.dump(idf_json, json_file)"
   ]
  },
  {
   "cell_type": "code",
   "execution_count": 29,
   "metadata": {},
   "outputs": [],
   "source": []
  },
  {
   "cell_type": "code",
   "execution_count": null,
   "metadata": {},
   "outputs": [],
   "source": []
  }
 ],
 "metadata": {
  "kernelspec": {
   "display_name": "Python 3",
   "language": "python",
   "name": "python3"
  },
  "language_info": {
   "codemirror_mode": {
    "name": "ipython",
    "version": 3
   },
   "file_extension": ".py",
   "mimetype": "text/x-python",
   "name": "python",
   "nbconvert_exporter": "python",
   "pygments_lexer": "ipython3",
   "version": "3.7.1"
  }
 },
 "nbformat": 4,
 "nbformat_minor": 2
}
